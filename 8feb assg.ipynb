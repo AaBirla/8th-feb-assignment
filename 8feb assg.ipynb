{
 "cells": [
  {
   "cell_type": "markdown",
   "id": "a165f817-a32e-40b6-9395-07f32bf61195",
   "metadata": {},
   "source": [
    "### Q1. What is Abstraction in OOps? Explain with an example."
   ]
  },
  {
   "cell_type": "markdown",
   "id": "af9d9a7b-50aa-47ac-85c5-d8fb819a72ad",
   "metadata": {},
   "source": [
    "Abstraction in Object-Oriented Programming (OOP) is a technique to hide implementation details and show only essential features to the user. It is a way to reduce the complexity and make the code more maintainable by encapsulating the behavior and data within objects."
   ]
  },
  {
   "cell_type": "code",
   "execution_count": null,
   "id": "10354da0-4bbe-4433-b4cc-90a1e0022369",
   "metadata": {},
   "outputs": [
    {
     "name": "stdout",
     "output_type": "stream",
     "text": [
      "Dodge Challanger Hellcat engine started\n",
      "Dodge Challanger Hellcat is now moving at 10 kmph\n",
      "Dodge Challanger Hellcat is now moving at 20 kmph\n",
      "Dodge Challanger Hellcat is now moving at 30 kmph\n",
      "Dodge Challanger Hellcat has stopped\n"
     ]
    }
   ],
   "source": [
    "# example\n",
    "\n",
    "\n",
    "class car:\n",
    "    \n",
    "    def __init__(self,make,model,year):\n",
    "        \n",
    "        self.make=make\n",
    "        self.model=model\n",
    "        self.year=year\n",
    "        self._speed=0\n",
    "        \n",
    "    def start(self):\n",
    "        print(f'{self.make} {self.model} engine started')\n",
    "        \n",
    "    def accelerate(self):\n",
    "        self._speed+=10\n",
    "        print(f'{self.make} {self.model} is now moving at {self._speed} kmph')\n",
    "        \n",
    "    def stop(self):\n",
    "        self._speed=0\n",
    "        print(f'{self.make} {self.model} has stopped')\n",
    "        \n",
    "# User of the car doesn't need to know how the engine works, but only needs to know how to operate it\n",
    "my_car = car('Dodge Challanger', 'Hellcat', 2022)\n",
    "my_car.start()\n",
    "my_car.accelerate()\n",
    "my_car.accelerate()\n",
    "my_car.accelerate()\n",
    "my_car.stop() "
   ]
  },
  {
   "cell_type": "code",
   "execution_count": null,
   "id": "75ec60bd-a111-49e8-9490-f73df6d3c325",
   "metadata": {},
   "outputs": [],
   "source": []
  },
  {
   "cell_type": "markdown",
   "id": "20a77dc2-9d95-4ca0-ba02-1faf72026183",
   "metadata": {},
   "source": [
    "### Q2. Differentiate between Abstraction and Encapsulation. Explain with an example."
   ]
  },
  {
   "cell_type": "markdown",
   "id": "23cbf4ca-ec51-4ad9-ab99-007742c02684",
   "metadata": {},
   "source": [
    "Abstraction: refers to the process of hiding the implementation details of an object and exposing only the essential features to the user. It is a technique to simplify complex systems by hiding the underlying complexity and providing a clear and easy to use interface.\n",
    "\n",
    "Encapsulation: on the other hand, is the mechanism of wrapping data and functions within an object. It is a way to protect the data from unauthorized access and modification by limiting the access to the object's internal data and behavior."
   ]
  },
  {
   "cell_type": "code",
   "execution_count": 2,
   "id": "e266207b-9339-486c-8559-582edbb659f1",
   "metadata": {},
   "outputs": [],
   "source": [
    "class Car:\n",
    "    def __init__(self, make, model, year):\n",
    "        self.make = make\n",
    "        self.model = model\n",
    "        self.year = year\n",
    "        self._speed = 0\n",
    "\n",
    "    def start_engine(self):\n",
    "        print(f'{self.make} {self.model} engine started')\n",
    "\n",
    "    def accelerate(self):\n",
    "        self._speed += 10\n",
    "        print(f'{self.make} {self.model} is now moving at {self._speed} mph')\n",
    "\n",
    "    def stop(self):\n",
    "        self._speed = 0\n",
    "        print(f'{self.make} {self.model} has stopped')"
   ]
  },
  {
   "cell_type": "markdown",
   "id": "2ab8e4e2-79df-4231-a1f6-b9ead3428764",
   "metadata": {},
   "source": [
    "\n",
    "Here the abstraction is to provide a simple interface to start the engine, accelerate, and stop the car. The encapsulation is to protect the internal data, _speed, from unauthorized access and modification."
   ]
  },
  {
   "cell_type": "code",
   "execution_count": null,
   "id": "1e4e9938-6c7b-464c-bc40-4c17d5e7ee26",
   "metadata": {},
   "outputs": [],
   "source": []
  },
  {
   "cell_type": "markdown",
   "id": "57cd3538-90dd-48ea-bdc5-c645b138cb33",
   "metadata": {},
   "source": [
    "### Q3. What is abc module in python? Why is it used?"
   ]
  },
  {
   "cell_type": "markdown",
   "id": "bee7319c-a10c-4db9-9c5d-6fdcb8a37448",
   "metadata": {},
   "source": [
    "The abc module in Python stands for \"Abstract Base Classes\". It provides a way to define abstract base classes in Python, which are classes that cannot be instantiated on their own but can be subclassed by other classes.\n",
    "\n",
    "The purpose of using abstract base classes is to provide a common interface for a set of related classes, to enforce certain contracts or constraints on the classes that inherit from them, or to specify what methods must be implemented by any concrete class that subclasses the abstract base class.\n",
    "\n",
    "The abc module provides a set of decorators and methods that can be used to define abstract base classes and abstract methods in a way that is compatible with Python's object-oriented programming model. The abc module also provides a way to register concrete classes as implementations of an abstract base class, which allows for better interoperability between different libraries and modules"
   ]
  },
  {
   "cell_type": "code",
   "execution_count": null,
   "id": "769a1a68-d3bd-4974-88b0-c410bb3a7cf1",
   "metadata": {},
   "outputs": [],
   "source": []
  },
  {
   "cell_type": "markdown",
   "id": "baf859e5-97e4-4f37-8582-6aa229ffa006",
   "metadata": {},
   "source": [
    "### Q4. How can we achieve data abstraction?"
   ]
  },
  {
   "cell_type": "markdown",
   "id": "b0cf9e7c-8529-42f3-a074-4bcb496e54fa",
   "metadata": {},
   "source": [
    "Data abstraction in Object-Oriented Programming (OOP) is achieved by hiding the implementation details of an object and exposing only the essential features to the user. There are several ways to achieve data abstraction in OOP, including:\n",
    "\n",
    "1.Encapsulation: Encapsulation is the mechanism of wrapping data and functions within an object. By making the data members of a class private or protected, they can only be accessed and modified through the public methods of the class, providing a level of abstraction.\n",
    "\n",
    "2.Access Modifiers: Access modifiers, such as private, protected, and public, can be used to control the access to the data members of a class. By making the data members private or protected, they can only be accessed and modified within the class or its subclasses, providing a level of abstraction.m"
   ]
  },
  {
   "cell_type": "code",
   "execution_count": 3,
   "id": "67f2bb26-2487-47fd-a974-00578196f898",
   "metadata": {},
   "outputs": [],
   "source": [
    "class car:\n",
    "    def __init__(self, make, model, year):\n",
    "        self.__make = make\n",
    "        self.__model = model\n",
    "        self.__year = year\n",
    "        self.__speed = 0\n",
    "\n",
    "    def start_engine(self):\n",
    "        print(f'{self.__make} {self.__model} engine started')\n",
    "\n",
    "    def accelerate(self):\n",
    "        self.__speed += 10\n",
    "        print(f'{self.__make} {self.__model} is now moving at {self.__speed} mph')\n",
    "\n",
    "    def stop(self):\n",
    "        self.__speed = 0\n",
    "        print(f'{self.__make} {self.__model} has stopped')\n",
    "\n",
    "        # access through getter to return private data memeber:\n",
    "\n",
    "    def get_make(self):\n",
    "        return self.__make\n",
    "\n",
    "    def get_model(self):\n",
    "        return self.__model\n",
    "\n",
    "    def get_year(self):\n",
    "        return self.__year  "
   ]
  },
  {
   "cell_type": "code",
   "execution_count": null,
   "id": "49b30ef7-178c-4140-a272-529b3938a269",
   "metadata": {},
   "outputs": [],
   "source": [
    "\n",
    "the class Car encapsulates its data and behavior within the class and makes the data members __make, __model, __year, and __speed private, so they can only be accessed and modified through the public methods of the class."
   ]
  }
 ],
 "metadata": {
  "kernelspec": {
   "display_name": "Python 3 (ipykernel)",
   "language": "python",
   "name": "python3"
  },
  "language_info": {
   "codemirror_mode": {
    "name": "ipython",
    "version": 3
   },
   "file_extension": ".py",
   "mimetype": "text/x-python",
   "name": "python",
   "nbconvert_exporter": "python",
   "pygments_lexer": "ipython3",
   "version": "3.10.8"
  }
 },
 "nbformat": 4,
 "nbformat_minor": 5
}
